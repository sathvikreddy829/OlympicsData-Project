{
 "cells": [
  {
   "cell_type": "code",
   "execution_count": 0,
   "metadata": {
    "application/vnd.databricks.v1+cell": {
     "cellMetadata": {},
     "inputWidgets": {},
     "nuid": "71b1d55c-e87d-436f-b57e-994709391bbd",
     "showTitle": false,
     "tableResultSettingsMap": {},
     "title": ""
    }
   },
   "outputs": [],
   "source": [
    "my_array =[\n",
    "           {\n",
    "           \"source_container\" : \"bronze\",\n",
    "           \"sink_container\" : \"silver\",\n",
    "           \"folder\" : \"coaches\"\n",
    "           },\n",
    "           {\n",
    "           \"source_container\" : \"bronze\",\n",
    "           \"sink_container\" : \"silver\",\n",
    "           \"folder\" : \"events\"\n",
    "           }\n",
    "\n",
    "]\n",
    "\n",
    "\n",
    "\n",
    "dbutils.jobs.taskValues.set(key = \"my_output\", value = my_array)    "
   ]
  }
 ],
 "metadata": {
  "application/vnd.databricks.v1+notebook": {
   "computePreferences": null,
   "dashboards": [],
   "environmentMetadata": {
    "base_environment": "",
    "environment_version": "2"
   },
   "inputWidgetPreferences": null,
   "language": "python",
   "notebookMetadata": {
    "pythonIndentUnit": 4
   },
   "notebookName": "Array_Parameter",
   "widgets": {}
  },
  "language_info": {
   "name": "python"
  }
 },
 "nbformat": 4,
 "nbformat_minor": 0
}